{
 "cells": [
  {
   "cell_type": "code",
   "execution_count": 1,
   "metadata": {
    "collapsed": true,
    "ExecuteTime": {
     "end_time": "2025-03-11T14:41:50.141385400Z",
     "start_time": "2025-03-11T14:41:48.785982600Z"
    }
   },
   "outputs": [
    {
     "ename": "ImproperlyConfigured",
     "evalue": "Requested setting INSTALLED_APPS, but settings are not configured. You must either define the environment variable DJANGO_SETTINGS_MODULE or call settings.configure() before accessing settings.",
     "output_type": "error",
     "traceback": [
      "\u001B[1;31m---------------------------------------------------------------------------\u001B[0m",
      "\u001B[1;31mImproperlyConfigured\u001B[0m                      Traceback (most recent call last)",
      "Cell \u001B[1;32mIn[1], line 2\u001B[0m\n\u001B[0;32m      1\u001B[0m \u001B[38;5;28;01mimport\u001B[39;00m \u001B[38;5;21;01mcsv\u001B[39;00m\n\u001B[1;32m----> 2\u001B[0m \u001B[38;5;28;01mfrom\u001B[39;00m \u001B[38;5;21;01manalyzer\u001B[39;00m\u001B[38;5;21;01m.\u001B[39;00m\u001B[38;5;21;01mmodels\u001B[39;00m \u001B[38;5;28;01mimport\u001B[39;00m RAM\n\u001B[0;32m      4\u001B[0m \u001B[38;5;66;03m# 清空现有数据（可选，若不需要清空可跳过）\u001B[39;00m\n\u001B[0;32m      5\u001B[0m RAM\u001B[38;5;241m.\u001B[39mobjects\u001B[38;5;241m.\u001B[39mall()\u001B[38;5;241m.\u001B[39mdelete()\n",
      "File \u001B[1;32mZ:\\desk\\code\\hardware_analyzer\\analyzer\\models.py:3\u001B[0m\n\u001B[0;32m      1\u001B[0m \u001B[38;5;28;01mfrom\u001B[39;00m \u001B[38;5;21;01mdjango\u001B[39;00m\u001B[38;5;21;01m.\u001B[39;00m\u001B[38;5;21;01mdb\u001B[39;00m \u001B[38;5;28;01mimport\u001B[39;00m models\n\u001B[1;32m----> 3\u001B[0m \u001B[38;5;28;01mclass\u001B[39;00m \u001B[38;5;21;01mRAM\u001B[39;00m(models\u001B[38;5;241m.\u001B[39mModel):\n\u001B[0;32m      4\u001B[0m     title \u001B[38;5;241m=\u001B[39m models\u001B[38;5;241m.\u001B[39mTextField()\n\u001B[0;32m      5\u001B[0m     reference_price \u001B[38;5;241m=\u001B[39m models\u001B[38;5;241m.\u001B[39mIntegerField(null\u001B[38;5;241m=\u001B[39m\u001B[38;5;28;01mTrue\u001B[39;00m, blank\u001B[38;5;241m=\u001B[39m\u001B[38;5;28;01mTrue\u001B[39;00m)\n",
      "File \u001B[1;32mZ:\\anaconda3\\envs\\Django\\lib\\site-packages\\django\\db\\models\\base.py:127\u001B[0m, in \u001B[0;36mModelBase.__new__\u001B[1;34m(cls, name, bases, attrs, **kwargs)\u001B[0m\n\u001B[0;32m    124\u001B[0m app_label \u001B[38;5;241m=\u001B[39m \u001B[38;5;28;01mNone\u001B[39;00m\n\u001B[0;32m    126\u001B[0m \u001B[38;5;66;03m# Look for an application configuration to attach the model to.\u001B[39;00m\n\u001B[1;32m--> 127\u001B[0m app_config \u001B[38;5;241m=\u001B[39m \u001B[43mapps\u001B[49m\u001B[38;5;241;43m.\u001B[39;49m\u001B[43mget_containing_app_config\u001B[49m\u001B[43m(\u001B[49m\u001B[43mmodule\u001B[49m\u001B[43m)\u001B[49m\n\u001B[0;32m    129\u001B[0m \u001B[38;5;28;01mif\u001B[39;00m \u001B[38;5;28mgetattr\u001B[39m(meta, \u001B[38;5;124m\"\u001B[39m\u001B[38;5;124mapp_label\u001B[39m\u001B[38;5;124m\"\u001B[39m, \u001B[38;5;28;01mNone\u001B[39;00m) \u001B[38;5;129;01mis\u001B[39;00m \u001B[38;5;28;01mNone\u001B[39;00m:\n\u001B[0;32m    130\u001B[0m     \u001B[38;5;28;01mif\u001B[39;00m app_config \u001B[38;5;129;01mis\u001B[39;00m \u001B[38;5;28;01mNone\u001B[39;00m:\n",
      "File \u001B[1;32mZ:\\anaconda3\\envs\\Django\\lib\\site-packages\\django\\apps\\registry.py:260\u001B[0m, in \u001B[0;36mApps.get_containing_app_config\u001B[1;34m(self, object_name)\u001B[0m\n\u001B[0;32m    251\u001B[0m \u001B[38;5;28;01mdef\u001B[39;00m \u001B[38;5;21mget_containing_app_config\u001B[39m(\u001B[38;5;28mself\u001B[39m, object_name):\n\u001B[0;32m    252\u001B[0m \u001B[38;5;250m    \u001B[39m\u001B[38;5;124;03m\"\"\"\u001B[39;00m\n\u001B[0;32m    253\u001B[0m \u001B[38;5;124;03m    Look for an app config containing a given object.\u001B[39;00m\n\u001B[0;32m    254\u001B[0m \n\u001B[1;32m   (...)\u001B[0m\n\u001B[0;32m    258\u001B[0m \u001B[38;5;124;03m    Return None if the object isn't in any registered app config.\u001B[39;00m\n\u001B[0;32m    259\u001B[0m \u001B[38;5;124;03m    \"\"\"\u001B[39;00m\n\u001B[1;32m--> 260\u001B[0m     \u001B[38;5;28;43mself\u001B[39;49m\u001B[38;5;241;43m.\u001B[39;49m\u001B[43mcheck_apps_ready\u001B[49m\u001B[43m(\u001B[49m\u001B[43m)\u001B[49m\n\u001B[0;32m    261\u001B[0m     candidates \u001B[38;5;241m=\u001B[39m []\n\u001B[0;32m    262\u001B[0m     \u001B[38;5;28;01mfor\u001B[39;00m app_config \u001B[38;5;129;01min\u001B[39;00m \u001B[38;5;28mself\u001B[39m\u001B[38;5;241m.\u001B[39mapp_configs\u001B[38;5;241m.\u001B[39mvalues():\n",
      "File \u001B[1;32mZ:\\anaconda3\\envs\\Django\\lib\\site-packages\\django\\apps\\registry.py:137\u001B[0m, in \u001B[0;36mApps.check_apps_ready\u001B[1;34m(self)\u001B[0m\n\u001B[0;32m    132\u001B[0m \u001B[38;5;28;01mfrom\u001B[39;00m \u001B[38;5;21;01mdjango\u001B[39;00m\u001B[38;5;21;01m.\u001B[39;00m\u001B[38;5;21;01mconf\u001B[39;00m \u001B[38;5;28;01mimport\u001B[39;00m settings\n\u001B[0;32m    134\u001B[0m \u001B[38;5;66;03m# If \"not ready\" is due to unconfigured settings, accessing\u001B[39;00m\n\u001B[0;32m    135\u001B[0m \u001B[38;5;66;03m# INSTALLED_APPS raises a more helpful ImproperlyConfigured\u001B[39;00m\n\u001B[0;32m    136\u001B[0m \u001B[38;5;66;03m# exception.\u001B[39;00m\n\u001B[1;32m--> 137\u001B[0m \u001B[43msettings\u001B[49m\u001B[38;5;241;43m.\u001B[39;49m\u001B[43mINSTALLED_APPS\u001B[49m\n\u001B[0;32m    138\u001B[0m \u001B[38;5;28;01mraise\u001B[39;00m AppRegistryNotReady(\u001B[38;5;124m\"\u001B[39m\u001B[38;5;124mApps aren\u001B[39m\u001B[38;5;124m'\u001B[39m\u001B[38;5;124mt loaded yet.\u001B[39m\u001B[38;5;124m\"\u001B[39m)\n",
      "File \u001B[1;32mZ:\\anaconda3\\envs\\Django\\lib\\site-packages\\django\\conf\\__init__.py:92\u001B[0m, in \u001B[0;36mLazySettings.__getattr__\u001B[1;34m(self, name)\u001B[0m\n\u001B[0;32m     90\u001B[0m \u001B[38;5;250m\u001B[39m\u001B[38;5;124;03m\"\"\"Return the value of a setting and cache it in self.__dict__.\"\"\"\u001B[39;00m\n\u001B[0;32m     91\u001B[0m \u001B[38;5;28;01mif\u001B[39;00m (_wrapped \u001B[38;5;241m:=\u001B[39m \u001B[38;5;28mself\u001B[39m\u001B[38;5;241m.\u001B[39m_wrapped) \u001B[38;5;129;01mis\u001B[39;00m empty:\n\u001B[1;32m---> 92\u001B[0m     \u001B[38;5;28;43mself\u001B[39;49m\u001B[38;5;241;43m.\u001B[39;49m\u001B[43m_setup\u001B[49m\u001B[43m(\u001B[49m\u001B[43mname\u001B[49m\u001B[43m)\u001B[49m\n\u001B[0;32m     93\u001B[0m     _wrapped \u001B[38;5;241m=\u001B[39m \u001B[38;5;28mself\u001B[39m\u001B[38;5;241m.\u001B[39m_wrapped\n\u001B[0;32m     94\u001B[0m val \u001B[38;5;241m=\u001B[39m \u001B[38;5;28mgetattr\u001B[39m(_wrapped, name)\n",
      "File \u001B[1;32mZ:\\anaconda3\\envs\\Django\\lib\\site-packages\\django\\conf\\__init__.py:72\u001B[0m, in \u001B[0;36mLazySettings._setup\u001B[1;34m(self, name)\u001B[0m\n\u001B[0;32m     70\u001B[0m \u001B[38;5;28;01mif\u001B[39;00m \u001B[38;5;129;01mnot\u001B[39;00m settings_module:\n\u001B[0;32m     71\u001B[0m     desc \u001B[38;5;241m=\u001B[39m (\u001B[38;5;124m\"\u001B[39m\u001B[38;5;124msetting \u001B[39m\u001B[38;5;132;01m%s\u001B[39;00m\u001B[38;5;124m\"\u001B[39m \u001B[38;5;241m%\u001B[39m name) \u001B[38;5;28;01mif\u001B[39;00m name \u001B[38;5;28;01melse\u001B[39;00m \u001B[38;5;124m\"\u001B[39m\u001B[38;5;124msettings\u001B[39m\u001B[38;5;124m\"\u001B[39m\n\u001B[1;32m---> 72\u001B[0m     \u001B[38;5;28;01mraise\u001B[39;00m ImproperlyConfigured(\n\u001B[0;32m     73\u001B[0m         \u001B[38;5;124m\"\u001B[39m\u001B[38;5;124mRequested \u001B[39m\u001B[38;5;132;01m%s\u001B[39;00m\u001B[38;5;124m, but settings are not configured. \u001B[39m\u001B[38;5;124m\"\u001B[39m\n\u001B[0;32m     74\u001B[0m         \u001B[38;5;124m\"\u001B[39m\u001B[38;5;124mYou must either define the environment variable \u001B[39m\u001B[38;5;132;01m%s\u001B[39;00m\u001B[38;5;124m \u001B[39m\u001B[38;5;124m\"\u001B[39m\n\u001B[0;32m     75\u001B[0m         \u001B[38;5;124m\"\u001B[39m\u001B[38;5;124mor call settings.configure() before accessing settings.\u001B[39m\u001B[38;5;124m\"\u001B[39m\n\u001B[0;32m     76\u001B[0m         \u001B[38;5;241m%\u001B[39m (desc, ENVIRONMENT_VARIABLE)\n\u001B[0;32m     77\u001B[0m     )\n\u001B[0;32m     79\u001B[0m \u001B[38;5;28mself\u001B[39m\u001B[38;5;241m.\u001B[39m_wrapped \u001B[38;5;241m=\u001B[39m Settings(settings_module)\n",
      "\u001B[1;31mImproperlyConfigured\u001B[0m: Requested setting INSTALLED_APPS, but settings are not configured. You must either define the environment variable DJANGO_SETTINGS_MODULE or call settings.configure() before accessing settings."
     ]
    }
   ],
   "source": [
    "import csv\n",
    "from analyzer.models import RAM\n",
    "\n",
    "# 清空现有数据（可选，若不需要清空可跳过）\n",
    "RAM.objects.all().delete()\n",
    "\n",
    "# 打开 CSV 文件并导入\n",
    "with open('../spider/csv/ram0311.csv', 'r', encoding='utf-8') as file:\n",
    "    reader = csv.DictReader(file)\n",
    "    for row in reader:\n",
    "        RAM.objects.create(\n",
    "            title=row['标题'],\n",
    "            reference_price=row['参考价'] or None,\n",
    "            jd_price=row['京东价'] or None\n",
    "        )\n",
    "\n",
    "# 检查导入结果\n",
    "print(RAM.objects.all())"
   ]
  },
  {
   "cell_type": "code",
   "execution_count": null,
   "outputs": [],
   "source": [],
   "metadata": {
    "collapsed": false
   }
  }
 ],
 "metadata": {
  "kernelspec": {
   "display_name": "Python 3",
   "language": "python",
   "name": "python3"
  },
  "language_info": {
   "codemirror_mode": {
    "name": "ipython",
    "version": 2
   },
   "file_extension": ".py",
   "mimetype": "text/x-python",
   "name": "python",
   "nbconvert_exporter": "python",
   "pygments_lexer": "ipython2",
   "version": "2.7.6"
  }
 },
 "nbformat": 4,
 "nbformat_minor": 0
}
