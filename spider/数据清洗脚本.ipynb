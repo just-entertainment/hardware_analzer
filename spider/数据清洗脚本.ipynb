{
 "cells": [
  {
   "cell_type": "code",
   "execution_count": 1,
   "outputs": [
    {
     "name": "stdout",
     "output_type": "stream",
     "text": [
      "配置已保存到文件: Z:\\anaconda3\\envs\\Django\\lib\\site-packages\\DrissionPage\\_configs\\configs.ini\n",
      "以后程序可自动从文件加载配置\n"
     ]
    },
    {
     "data": {
      "text/plain": "'Z:\\\\anaconda3\\\\envs\\\\Django\\\\lib\\\\site-packages\\\\DrissionPage\\\\_configs\\\\configs.ini'"
     },
     "execution_count": 1,
     "metadata": {},
     "output_type": "execute_result"
    }
   ],
   "source": [
    "#保存浏览器驱动\n",
    "from DrissionPage import ChromiumOptions\n",
    "path = r'C:\\Program Files\\Google\\Chrome\\Application\\chrome.exe'\n",
    "ChromiumOptions().set_browser_path(path).save()"
   ],
   "metadata": {
    "collapsed": false,
    "ExecuteTime": {
     "end_time": "2025-03-05T08:51:45.683141900Z",
     "start_time": "2025-03-05T08:51:45.094711600Z"
    }
   }
  },
  {
   "cell_type": "code",
   "execution_count": 2,
   "outputs": [],
   "source": [
    "##数据清洗\n",
    "\n",
    "import pandas as pd\n",
    "\n",
    "# 读取CSV文件\n",
    "df = pd.read_csv('csv/cpu_products.csv')\n",
    "\n",
    "# 定义要清洗的列名列表\n",
    "columns_to_clean = ['京东价', '参考价']\n",
    "\n",
    "for column in columns_to_clean:\n",
    "    if column in df.columns:\n",
    "        # 1. 去掉 '￥' 和 '¥' 符号\n",
    "        df[column] = df[column].astype(str).str.replace('￥', '').str.replace('¥', '')\n",
    "\n",
    "        # 2. 处理 '万' 字，并转换为数值\n",
    "        # 检查是否包含 '万'，如果是，乘以 10000\n",
    "        has_wan = df[column].str.contains('万', na=False)\n",
    "        df.loc[has_wan, column] = (\n",
    "            df.loc[has_wan, column]\n",
    "            .str.replace('万', '')  # 去掉 '万'\n",
    "            .astype(float) * 10000  # 转换为 float 并乘以 10000\n",
    "        )\n",
    "\n",
    "        # 3. 确保所有值转换为数值（非 '万' 的按原值处理）\n",
    "        df[column] = pd.to_numeric(df[column], errors='coerce')\n",
    "    else:\n",
    "        print(f\"警告：数据框中没有 '{column}' 列\")\n",
    "\n",
    "# 保存修改后的CSV文件\n",
    "df.to_csv('clearcsv/cpu_history.csv', index=False)"
   ],
   "metadata": {
    "collapsed": false,
    "ExecuteTime": {
     "end_time": "2025-04-16T07:17:08.882409500Z",
     "start_time": "2025-04-16T07:17:08.849410100Z"
    }
   }
  },
  {
   "cell_type": "code",
   "execution_count": 1,
   "outputs": [
    {
     "name": "stdout",
     "output_type": "stream",
     "text": [
      "处理完成，结果已保存到: csv/out.csv\n"
     ]
    }
   ],
   "source": [
    "import pandas as pd\n",
    "import re\n",
    "\n",
    "def parse_product_params(input_file, output_file):\n",
    "    \"\"\"\n",
    "    解析包含产品参数的CSV文件，将参数列拆分为多列\n",
    "\n",
    "    参数:\n",
    "        input_file (str): 输入CSV文件路径\n",
    "        output_file (str): 输出CSV文件路径\n",
    "    \"\"\"\n",
    "    # 读取原始CSV文件\n",
    "    df = pd.read_csv(input_file)\n",
    "\n",
    "    # 确保存在'产品参数'列\n",
    "    if '产品参数' not in df.columns:\n",
    "        raise ValueError(\"CSV文件中没有找到'产品参数'列\")\n",
    "\n",
    "    # 预定义常见的参数键（可根据实际数据调整）\n",
    "    common_params = [\n",
    "        '适用类型', 'CPU系列', 'CPU主频', '最高睿频', '三级缓存',\n",
    "        '插槽类型', '核心数量', '线程数',  '热设计功耗(TDP)'\n",
    "    ]\n",
    "\n",
    "    # 初始化所有参数列为空字符串\n",
    "    for param in common_params:\n",
    "        df[param] = ''\n",
    "\n",
    "    # 解析每一行的产品参数\n",
    "    for index, row in df.iterrows():\n",
    "        if pd.isna(row['产品参数']):\n",
    "            continue\n",
    "\n",
    "        # 分割参数行\n",
    "        param_lines = str(row['产品参数']).split('\\n')\n",
    "\n",
    "        # 解析每个参数键值对\n",
    "        for line in param_lines:\n",
    "            # 使用正则表达式匹配键值对\n",
    "            match = re.match(r'^(.+?)：(.*)$', line.strip())\n",
    "            if match:\n",
    "                key = match.group(1).strip()\n",
    "                value = match.group(2).strip()\n",
    "\n",
    "                # 如果键在预定义列表中，则添加到DataFrame\n",
    "                if key in common_params:\n",
    "                    df.at[index, key] = value\n",
    "                else:\n",
    "                    # 对于未预定义的参数，动态添加新列\n",
    "                    if key not in df.columns:\n",
    "                        df[key] = ''\n",
    "                    df.at[index, key] = value\n",
    "\n",
    "    # 保存处理后的数据到新CSV文件\n",
    "    df.to_csv(output_file, index=False, encoding='utf_8_sig')\n",
    "    print(f\"处理完成，结果已保存到: {output_file}\")\n",
    "\n",
    "# 使用示例\n",
    "if __name__ == \"__main__\":\n",
    "    input_csv = \"csv/测试.csv\"  # 替换为你的输入文件路径\n",
    "    output_csv = \"csv/out.csv\"  # 输出文件路径\n",
    "\n",
    "    parse_product_params(input_csv, output_csv)"
   ],
   "metadata": {
    "collapsed": false,
    "ExecuteTime": {
     "end_time": "2025-04-06T10:24:57.441081800Z",
     "start_time": "2025-04-06T10:24:55.757530600Z"
    }
   }
  }
 ],
 "metadata": {
  "kernelspec": {
   "display_name": "Python 3",
   "language": "python",
   "name": "python3"
  },
  "language_info": {
   "codemirror_mode": {
    "name": "ipython",
    "version": 2
   },
   "file_extension": ".py",
   "mimetype": "text/x-python",
   "name": "python",
   "nbconvert_exporter": "python",
   "pygments_lexer": "ipython2",
   "version": "2.7.6"
  }
 },
 "nbformat": 4,
 "nbformat_minor": 0
}
