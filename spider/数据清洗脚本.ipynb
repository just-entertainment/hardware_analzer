{
 "cells": [
  {
   "cell_type": "code",
   "execution_count": 1,
   "outputs": [
    {
     "name": "stdout",
     "output_type": "stream",
     "text": [
      "配置已保存到文件: Z:\\anaconda3\\envs\\Django\\lib\\site-packages\\DrissionPage\\_configs\\configs.ini\n",
      "以后程序可自动从文件加载配置\n"
     ]
    },
    {
     "data": {
      "text/plain": "'Z:\\\\anaconda3\\\\envs\\\\Django\\\\lib\\\\site-packages\\\\DrissionPage\\\\_configs\\\\configs.ini'"
     },
     "execution_count": 1,
     "metadata": {},
     "output_type": "execute_result"
    }
   ],
   "source": [
    "#保存浏览器驱动\n",
    "from DrissionPage import ChromiumOptions\n",
    "path = r'C:\\Program Files\\Google\\Chrome\\Application\\chrome.exe'\n",
    "ChromiumOptions().set_browser_path(path).save()"
   ],
   "metadata": {
    "collapsed": false,
    "ExecuteTime": {
     "end_time": "2025-03-05T08:51:45.683141900Z",
     "start_time": "2025-03-05T08:51:45.094711600Z"
    }
   }
  },
  {
   "cell_type": "code",
   "execution_count": 2,
   "outputs": [],
   "source": [],
   "metadata": {
    "collapsed": false,
    "ExecuteTime": {
     "end_time": "2025-04-03T08:37:00.601533300Z",
     "start_time": "2025-04-03T08:37:00.509133600Z"
    }
   }
  },
  {
   "cell_type": "code",
   "execution_count": 10,
   "outputs": [
    {
     "name": "stdout",
     "output_type": "stream",
     "text": [
      "数据清洗完成，输出到 csv/cpuamd2.csv\n"
     ]
    }
   ],
   "source": [],
   "metadata": {
    "collapsed": false,
    "ExecuteTime": {
     "end_time": "2025-04-01T14:15:51.849985900Z",
     "start_time": "2025-04-01T14:15:51.819712900Z"
    }
   }
  },
  {
   "cell_type": "code",
   "execution_count": 8,
   "outputs": [
    {
     "name": "stdout",
     "output_type": "stream",
     "text": [
      "https://2c.zol-img.com.cn/product/252_400x300/344/ce0dr9bsQ3RiY.jpg\n"
     ]
    }
   ],
   "source": [
    "from DrissionPage import ChromiumPage\n",
    "from DrissionPage.common import Keys\n",
    "import csv\n",
    "import time\n",
    "\n",
    "dp = ChromiumPage()\n",
    "# dp.get(\"\"\n",
    "#        \"https://detail.zol.com.cn/solid_state_drive/good.html\"\n",
    "#        \"\")\n",
    "# #\n",
    "# # for size in sizes:\n",
    "# dp.scroll.to_bottom()\n",
    "# while(1):\n",
    "#     # goods = dp.ele(\"@id=J_PicMode\").eles(\"@@tag:li@!class=pic-mode-ads\")\n",
    "#     goods = dp.ele(\"@id=J_PicMode\").eles(\"tag:li@!class=pic-mode-ads\")\n",
    "#     for good in goods:\n",
    "#         good_link=good.ele('tag:h3').ele('tag:a')\n",
    "tab = dp.new_tab('https://detail.zol.com.cn/motherboard/index1896179.shtml')\n",
    "image=tab.ele('@class=item 0').ele('tag:a').ele('tag:img').attr('src')\n",
    "# text=tab.ele('@class=product-param-item pi-5 clearfix').text\n",
    "print(image)\n",
    "# print(text)\n",
    "#\n",
    "# tab.close()"
   ],
   "metadata": {
    "collapsed": false,
    "ExecuteTime": {
     "end_time": "2025-04-03T05:54:48.580869400Z",
     "start_time": "2025-04-03T05:54:47.921534600Z"
    }
   }
  },
  {
   "cell_type": "code",
   "execution_count": 1,
   "outputs": [],
   "source": [
    "##数据清洗\n",
    "\n",
    "import pandas as pd\n",
    "\n",
    "# 读取CSV文件\n",
    "df = pd.read_csv('csv/SSD.csv')\n",
    "\n",
    "# 定义要清洗的列名列表\n",
    "columns_to_clean = ['京东价', '参考价']\n",
    "\n",
    "for column in columns_to_clean:\n",
    "    if column in df.columns:\n",
    "        # 1. 去掉 '￥' 和 '¥' 符号\n",
    "        df[column] = df[column].astype(str).str.replace('￥', '').str.replace('¥', '')\n",
    "\n",
    "        # 2. 处理 '万' 字，并转换为数值\n",
    "        # 检查是否包含 '万'，如果是，乘以 10000\n",
    "        has_wan = df[column].str.contains('万', na=False)\n",
    "        df.loc[has_wan, column] = (\n",
    "            df.loc[has_wan, column]\n",
    "            .str.replace('万', '')  # 去掉 '万'\n",
    "            .astype(float) * 10000  # 转换为 float 并乘以 10000\n",
    "        )\n",
    "\n",
    "        # 3. 确保所有值转换为数值（非 '万' 的按原值处理）\n",
    "        df[column] = pd.to_numeric(df[column], errors='coerce')\n",
    "    else:\n",
    "        print(f\"警告：数据框中没有 '{column}' 列\")\n",
    "\n",
    "# 保存修改后的CSV文件\n",
    "df.to_csv('csv/SSD01.csv', index=False)"
   ],
   "metadata": {
    "collapsed": false,
    "ExecuteTime": {
     "end_time": "2025-04-04T11:44:42.680144500Z",
     "start_time": "2025-04-04T11:44:42.046713400Z"
    }
   }
  },
  {
   "cell_type": "code",
   "execution_count": null,
   "outputs": [],
   "source": [],
   "metadata": {
    "collapsed": false
   }
  }
 ],
 "metadata": {
  "kernelspec": {
   "display_name": "Python 3",
   "language": "python",
   "name": "python3"
  },
  "language_info": {
   "codemirror_mode": {
    "name": "ipython",
    "version": 2
   },
   "file_extension": ".py",
   "mimetype": "text/x-python",
   "name": "python",
   "nbconvert_exporter": "python",
   "pygments_lexer": "ipython2",
   "version": "2.7.6"
  }
 },
 "nbformat": 4,
 "nbformat_minor": 0
}
