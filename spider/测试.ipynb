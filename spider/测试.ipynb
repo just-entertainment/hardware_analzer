{
 "cells": [
  {
   "cell_type": "code",
   "execution_count": 1,
   "outputs": [
    {
     "name": "stdout",
     "output_type": "stream",
     "text": [
      "配置已保存到文件: Z:\\anaconda3\\envs\\Django\\lib\\site-packages\\DrissionPage\\_configs\\configs.ini\n",
      "以后程序可自动从文件加载配置\n"
     ]
    },
    {
     "data": {
      "text/plain": "'Z:\\\\anaconda3\\\\envs\\\\Django\\\\lib\\\\site-packages\\\\DrissionPage\\\\_configs\\\\configs.ini'"
     },
     "execution_count": 1,
     "metadata": {},
     "output_type": "execute_result"
    }
   ],
   "source": [
    "from DrissionPage import ChromiumOptions\n",
    "path = r'C:\\Program Files\\Google\\Chrome\\Application\\chrome.exe'\n",
    "ChromiumOptions().set_browser_path(path).save()"
   ],
   "metadata": {
    "collapsed": false,
    "ExecuteTime": {
     "end_time": "2025-03-05T08:51:45.683141900Z",
     "start_time": "2025-03-05T08:51:45.094711600Z"
    }
   }
  }
 ],
 "metadata": {
  "kernelspec": {
   "display_name": "Python 3",
   "language": "python",
   "name": "python3"
  },
  "language_info": {
   "codemirror_mode": {
    "name": "ipython",
    "version": 2
   },
   "file_extension": ".py",
   "mimetype": "text/x-python",
   "name": "python",
   "nbconvert_exporter": "python",
   "pygments_lexer": "ipython2",
   "version": "2.7.6"
  }
 },
 "nbformat": 4,
 "nbformat_minor": 0
}
