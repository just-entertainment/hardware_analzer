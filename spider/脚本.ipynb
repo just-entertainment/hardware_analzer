{
 "cells": [
  {
   "cell_type": "code",
   "execution_count": 1,
   "outputs": [
    {
     "name": "stdout",
     "output_type": "stream",
     "text": [
      "配置已保存到文件: Z:\\anaconda3\\envs\\Django\\lib\\site-packages\\DrissionPage\\_configs\\configs.ini\n",
      "以后程序可自动从文件加载配置\n"
     ]
    },
    {
     "data": {
      "text/plain": "'Z:\\\\anaconda3\\\\envs\\\\Django\\\\lib\\\\site-packages\\\\DrissionPage\\\\_configs\\\\configs.ini'"
     },
     "execution_count": 1,
     "metadata": {},
     "output_type": "execute_result"
    }
   ],
   "source": [
    "#保存浏览器驱动\n",
    "from DrissionPage import ChromiumOptions\n",
    "path = r'C:\\Program Files\\Google\\Chrome\\Application\\chrome.exe'\n",
    "ChromiumOptions().set_browser_path(path).save()"
   ],
   "metadata": {
    "collapsed": false,
    "ExecuteTime": {
     "end_time": "2025-03-05T08:51:45.683141900Z",
     "start_time": "2025-03-05T08:51:45.094711600Z"
    }
   }
  },
  {
   "cell_type": "code",
   "execution_count": 11,
   "outputs": [],
   "source": [
    "#替换csv文件中的内容\n",
    "\n",
    "import pandas as pd\n",
    "\n",
    "# 读取CSV文件\n",
    "df = pd.read_csv('csv/cpuintel.csv')\n",
    "\n",
    "# 去掉所有‘’符号\n",
    "df = df.replace('￥', '', regex=True)\n",
    "#¥  ￥\n",
    "df = df.replace('¥', '', regex=True)\n",
    "# 保存修改后的CSV文件\n",
    "df.to_csv('csv/cpuintel1.csv', index=False)"
   ],
   "metadata": {
    "collapsed": false,
    "ExecuteTime": {
     "end_time": "2025-04-01T14:26:06.406388900Z",
     "start_time": "2025-04-01T14:26:06.388070800Z"
    }
   }
  },
  {
   "cell_type": "code",
   "execution_count": 10,
   "outputs": [
    {
     "name": "stdout",
     "output_type": "stream",
     "text": [
      "数据清洗完成，输出到 csv/cpuamd2.csv\n"
     ]
    }
   ],
   "source": [
    "import csv\n",
    "\n",
    "def process_price(price_str):\n",
    "    \"\"\"处理价格字符串，去掉‘万’并乘以 10000\"\"\"\n",
    "    if not price_str or price_str.strip() == '':  # 如果为空或空白\n",
    "        return ''\n",
    "    price_str = price_str.strip()\n",
    "    if '万' in price_str:\n",
    "        return str(int(float(price_str.replace('万', '')) * 10000))\n",
    "    return str(int(float(price_str)))\n",
    "\n",
    "def clean_gpu_data(input_file, output_file):\n",
    "    with open(input_file, 'r', encoding='utf-8') as infile, \\\n",
    "         open(output_file, 'w', encoding='utf-8', newline='') as outfile:\n",
    "        reader = csv.DictReader(infile)\n",
    "        fieldnames = ['标题', '参考价', '京东价']\n",
    "        writer = csv.DictWriter(outfile, fieldnames=fieldnames)\n",
    "        writer.writeheader()\n",
    "\n",
    "        for row in reader:\n",
    "            cleaned_row = {\n",
    "                '标题': row['标题'],\n",
    "                '参考价': process_price(row['参考价']),\n",
    "                '京东价': process_price(row['京东价'])\n",
    "            }\n",
    "            writer.writerow(cleaned_row)\n",
    "\n",
    "    print(f\"数据清洗完成，输出到 {output_file}\")\n",
    "\n",
    "if __name__ == \"__main__\":\n",
    "    input_file = 'csv/cpuamd1.csv'  # 原始 CSV 文件\n",
    "    output_file = 'csv/cpuamd2.csv'  # 清洗后的 CSV 文件\n",
    "    clean_gpu_data(input_file, output_file)"
   ],
   "metadata": {
    "collapsed": false,
    "ExecuteTime": {
     "end_time": "2025-04-01T14:15:51.849985900Z",
     "start_time": "2025-04-01T14:15:51.819712900Z"
    }
   }
  },
  {
   "cell_type": "code",
   "execution_count": 8,
   "outputs": [
    {
     "name": "stdout",
     "output_type": "stream",
     "text": [
      "https://2c.zol-img.com.cn/product/252_400x300/344/ce0dr9bsQ3RiY.jpg\n"
     ]
    }
   ],
   "source": [
    "from DrissionPage import ChromiumPage\n",
    "from DrissionPage.common import Keys\n",
    "import csv\n",
    "import time\n",
    "\n",
    "dp = ChromiumPage()\n",
    "# dp.get(\"\"\n",
    "#        \"https://detail.zol.com.cn/solid_state_drive/good.html\"\n",
    "#        \"\")\n",
    "# #\n",
    "# # for size in sizes:\n",
    "# dp.scroll.to_bottom()\n",
    "# while(1):\n",
    "#     # goods = dp.ele(\"@id=J_PicMode\").eles(\"@@tag:li@!class=pic-mode-ads\")\n",
    "#     goods = dp.ele(\"@id=J_PicMode\").eles(\"tag:li@!class=pic-mode-ads\")\n",
    "#     for good in goods:\n",
    "#         good_link=good.ele('tag:h3').ele('tag:a')\n",
    "tab = dp.new_tab('https://detail.zol.com.cn/motherboard/index1896179.shtml')\n",
    "image=tab.ele('@class=item 0').ele('tag:a').ele('tag:img').attr('src')\n",
    "# text=tab.ele('@class=product-param-item pi-5 clearfix').text\n",
    "print(image)\n",
    "# print(text)\n",
    "#\n",
    "# tab.close()"
   ],
   "metadata": {
    "collapsed": false,
    "ExecuteTime": {
     "end_time": "2025-04-03T05:54:48.580869400Z",
     "start_time": "2025-04-03T05:54:47.921534600Z"
    }
   }
  }
 ],
 "metadata": {
  "kernelspec": {
   "display_name": "Python 3",
   "language": "python",
   "name": "python3"
  },
  "language_info": {
   "codemirror_mode": {
    "name": "ipython",
    "version": 2
   },
   "file_extension": ".py",
   "mimetype": "text/x-python",
   "name": "python",
   "nbconvert_exporter": "python",
   "pygments_lexer": "ipython2",
   "version": "2.7.6"
  }
 },
 "nbformat": 4,
 "nbformat_minor": 0
}
