{
 "cells": [
  {
   "cell_type": "code",
   "execution_count": 1,
   "outputs": [
    {
     "name": "stdout",
     "output_type": "stream",
     "text": [
      "配置已保存到文件: Z:\\anaconda3\\envs\\Django\\lib\\site-packages\\DrissionPage\\_configs\\configs.ini\n",
      "以后程序可自动从文件加载配置\n"
     ]
    },
    {
     "data": {
      "text/plain": "'Z:\\\\anaconda3\\\\envs\\\\Django\\\\lib\\\\site-packages\\\\DrissionPage\\\\_configs\\\\configs.ini'"
     },
     "execution_count": 1,
     "metadata": {},
     "output_type": "execute_result"
    }
   ],
   "source": [
    "#保存浏览器驱动\n",
    "from DrissionPage import ChromiumOptions\n",
    "path = r'C:\\Program Files\\Google\\Chrome\\Application\\chrome.exe'\n",
    "ChromiumOptions().set_browser_path(path).save()"
   ],
   "metadata": {
    "collapsed": false,
    "ExecuteTime": {
     "end_time": "2025-03-05T08:51:45.683141900Z",
     "start_time": "2025-03-05T08:51:45.094711600Z"
    }
   }
  },
  {
   "cell_type": "code",
   "execution_count": 12,
   "outputs": [],
   "source": [
    "#替换csv文件中的内容\n",
    "\n",
    "import pandas as pd\n",
    "\n",
    "# 读取CSV文件\n",
    "df = pd.read_csv('csv/gpunvidia0312.csv')\n",
    "\n",
    "# 去掉所有‘’符号\n",
    "df = df.replace('￥', '', regex=True)\n",
    "#¥  ￥\n",
    "\n",
    "# 保存修改后的CSV文件\n",
    "df.to_csv('csv/gpunvidia0312.csv', index=False)"
   ],
   "metadata": {
    "collapsed": false,
    "ExecuteTime": {
     "end_time": "2025-03-12T09:02:21.226277100Z",
     "start_time": "2025-03-12T09:02:21.201946200Z"
    }
   }
  },
  {
   "cell_type": "code",
   "execution_count": 13,
   "outputs": [
    {
     "name": "stdout",
     "output_type": "stream",
     "text": [
      "数据清洗完成，输出到 csv/gpunvidia.csv\n"
     ]
    }
   ],
   "source": [
    "import csv\n",
    "\n",
    "def process_price(price_str):\n",
    "    \"\"\"处理价格字符串，去掉‘万’并乘以 10000\"\"\"\n",
    "    if not price_str or price_str.strip() == '':  # 如果为空或空白\n",
    "        return ''\n",
    "    price_str = price_str.strip()\n",
    "    if '万' in price_str:\n",
    "        return str(int(float(price_str.replace('万', '')) * 10000))\n",
    "    return str(int(float(price_str)))\n",
    "\n",
    "def clean_gpu_data(input_file, output_file):\n",
    "    with open(input_file, 'r', encoding='utf-8') as infile, \\\n",
    "         open(output_file, 'w', encoding='utf-8', newline='') as outfile:\n",
    "        reader = csv.DictReader(infile)\n",
    "        fieldnames = ['标题', '参考价', '京东价']\n",
    "        writer = csv.DictWriter(outfile, fieldnames=fieldnames)\n",
    "        writer.writeheader()\n",
    "\n",
    "        for row in reader:\n",
    "            cleaned_row = {\n",
    "                '标题': row['标题'],\n",
    "                '参考价': process_price(row['参考价']),\n",
    "                '京东价': process_price(row['京东价'])\n",
    "            }\n",
    "            writer.writerow(cleaned_row)\n",
    "\n",
    "    print(f\"数据清洗完成，输出到 {output_file}\")\n",
    "\n",
    "if __name__ == \"__main__\":\n",
    "    input_file = 'csv/gpunvidia0312.csv'  # 原始 CSV 文件\n",
    "    output_file = 'csv/gpunvidia.csv'  # 清洗后的 CSV 文件\n",
    "    clean_gpu_data(input_file, output_file)"
   ],
   "metadata": {
    "collapsed": false,
    "ExecuteTime": {
     "end_time": "2025-03-12T09:02:26.484741600Z",
     "start_time": "2025-03-12T09:02:26.456389300Z"
    }
   }
  }
 ],
 "metadata": {
  "kernelspec": {
   "display_name": "Python 3",
   "language": "python",
   "name": "python3"
  },
  "language_info": {
   "codemirror_mode": {
    "name": "ipython",
    "version": 2
   },
   "file_extension": ".py",
   "mimetype": "text/x-python",
   "name": "python",
   "nbconvert_exporter": "python",
   "pygments_lexer": "ipython2",
   "version": "2.7.6"
  }
 },
 "nbformat": 4,
 "nbformat_minor": 0
}
